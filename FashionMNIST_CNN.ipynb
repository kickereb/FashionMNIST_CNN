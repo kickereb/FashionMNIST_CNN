{
 "cells": [
  {
   "cell_type": "code",
   "execution_count": 1,
   "metadata": {},
   "outputs": [],
   "source": [
    "import tensorflow as tf"
   ]
  },
  {
   "cell_type": "code",
   "execution_count": 2,
   "metadata": {},
   "outputs": [
    {
     "name": "stdout",
     "output_type": "stream",
     "text": [
      "2.1.0\n"
     ]
    }
   ],
   "source": [
    "from __future__ import absolute_import, division, print_function, unicode_literals\n",
    "from tensorflow import keras\n",
    "from tensorflow.keras import datasets, layers, models\n",
    "import numpy as np\n",
    "import cv2\n",
    "import matplotlib.pyplot as plt\n",
    "import random\n",
    "print(tf.__version__)"
   ]
  },
  {
   "cell_type": "code",
   "execution_count": 3,
   "metadata": {},
   "outputs": [],
   "source": [
    "fashion_mnist = keras.datasets.fashion_mnist\n",
    "(trainX, trainY), (testX, testY) = fashion_mnist.load_data()"
   ]
  },
  {
   "cell_type": "code",
   "execution_count": 4,
   "metadata": {},
   "outputs": [],
   "source": [
    "for_hold = trainX.copy()"
   ]
  },
  {
   "cell_type": "code",
   "execution_count": 5,
   "metadata": {},
   "outputs": [],
   "source": [
    "# Flip random images\n",
    "for i in range(trainX.shape[0]):\n",
    "    for_hold[i] = cv2.flip(trainX[i], np.random.randint(-1,3))"
   ]
  },
  {
   "cell_type": "code",
   "execution_count": 6,
   "metadata": {},
   "outputs": [],
   "source": [
    "trainX = for_hold.copy()"
   ]
  },
  {
   "cell_type": "code",
   "execution_count": 7,
   "metadata": {},
   "outputs": [],
   "source": [
    "trainX = trainX.reshape((trainX.shape[0], 28, 28, 1))\n",
    "testX = testX.reshape((testX.shape[0], 28, 28, 1))"
   ]
  },
  {
   "cell_type": "code",
   "execution_count": 8,
   "metadata": {},
   "outputs": [],
   "source": [
    "trainX = trainX/255.0\n",
    "testY = testY/255.0"
   ]
  },
  {
   "cell_type": "code",
   "execution_count": 9,
   "metadata": {},
   "outputs": [],
   "source": [
    "model = keras.Sequential()"
   ]
  },
  {
   "cell_type": "code",
   "execution_count": 10,
   "metadata": {},
   "outputs": [],
   "source": [
    "model.add(layers.Conv2D(16, (3,3), activation='relu', data_format='channels_last', input_shape = (28,28,1)))\n",
    "model.add(layers.MaxPool2D())\n",
    "model.add(layers.Conv2D(64,  (3,3), data_format='channels_last', activation='relu'))\n",
    "model.add(layers.BatchNormalization())\n",
    "model.add(layers.MaxPool2D())\n",
    "model.add(layers.Conv2D(64,  (3,3), data_format='channels_last', activation='relu'))\n",
    "model.add(layers.Flatten())\n",
    "model.add(layers.Dense(64, activation='relu'))\n",
    "model.add(layers.Dense(10, activation='softmax'))"
   ]
  },
  {
   "cell_type": "code",
   "execution_count": 11,
   "metadata": {},
   "outputs": [
    {
     "name": "stdout",
     "output_type": "stream",
     "text": [
      "Model: \"sequential\"\n",
      "_________________________________________________________________\n",
      "Layer (type)                 Output Shape              Param #   \n",
      "=================================================================\n",
      "conv2d (Conv2D)              (None, 26, 26, 16)        160       \n",
      "_________________________________________________________________\n",
      "max_pooling2d (MaxPooling2D) (None, 13, 13, 16)        0         \n",
      "_________________________________________________________________\n",
      "conv2d_1 (Conv2D)            (None, 11, 11, 64)        9280      \n",
      "_________________________________________________________________\n",
      "batch_normalization (BatchNo (None, 11, 11, 64)        256       \n",
      "_________________________________________________________________\n",
      "max_pooling2d_1 (MaxPooling2 (None, 5, 5, 64)          0         \n",
      "_________________________________________________________________\n",
      "conv2d_2 (Conv2D)            (None, 3, 3, 64)          36928     \n",
      "_________________________________________________________________\n",
      "flatten (Flatten)            (None, 576)               0         \n",
      "_________________________________________________________________\n",
      "dense (Dense)                (None, 64)                36928     \n",
      "_________________________________________________________________\n",
      "dense_1 (Dense)              (None, 10)                650       \n",
      "=================================================================\n",
      "Total params: 84,202\n",
      "Trainable params: 84,074\n",
      "Non-trainable params: 128\n",
      "_________________________________________________________________\n"
     ]
    }
   ],
   "source": [
    "model.summary()"
   ]
  },
  {
   "cell_type": "code",
   "execution_count": null,
   "metadata": {},
   "outputs": [],
   "source": [
    "tf.keras.optimizers.Adam"
   ]
  },
  {
   "cell_type": "code",
   "execution_count": 12,
   "metadata": {},
   "outputs": [],
   "source": [
    "model.compile(optimizer = 'adam',\n",
    "             loss='sparse_categorical_crossentropy',\n",
    "             metrics = ['accuracy'])"
   ]
  },
  {
   "cell_type": "code",
   "execution_count": 13,
   "metadata": {},
   "outputs": [
    {
     "name": "stdout",
     "output_type": "stream",
     "text": [
      "Train on 60000 samples, validate on 10000 samples\n",
      "Epoch 1/14\n",
      "60000/60000 [==============================] - 21s 356us/sample - loss: 0.4968 - accuracy: 0.8183 - val_loss: 709.3063 - val_accuracy: 0.0609\n",
      "Epoch 2/14\n",
      "60000/60000 [==============================] - 21s 351us/sample - loss: 0.3476 - accuracy: 0.8733 - val_loss: 943.4521 - val_accuracy: 0.0451\n",
      "Epoch 3/14\n",
      "60000/60000 [==============================] - 22s 361us/sample - loss: 0.3003 - accuracy: 0.8881 - val_loss: 849.2786 - val_accuracy: 0.0523\n",
      "Epoch 4/14\n",
      "60000/60000 [==============================] - 21s 357us/sample - loss: 0.2710 - accuracy: 0.9017 - val_loss: 757.6903 - val_accuracy: 0.0692\n",
      "Epoch 5/14\n",
      "60000/60000 [==============================] - 22s 363us/sample - loss: 0.2435 - accuracy: 0.9096 - val_loss: 854.6669 - val_accuracy: 0.0669\n",
      "Epoch 6/14\n",
      "60000/60000 [==============================] - 21s 349us/sample - loss: 0.2214 - accuracy: 0.9181 - val_loss: 954.4932 - val_accuracy: 0.0481\n",
      "Epoch 7/14\n",
      "60000/60000 [==============================] - 21s 347us/sample - loss: 0.2014 - accuracy: 0.9240 - val_loss: 1061.1530 - val_accuracy: 0.0344\n",
      "Epoch 8/14\n",
      "60000/60000 [==============================] - 21s 349us/sample - loss: 0.1816 - accuracy: 0.9319 - val_loss: 1538.8012 - val_accuracy: 0.0320\n",
      "Epoch 9/14\n",
      "60000/60000 [==============================] - 21s 353us/sample - loss: 0.1698 - accuracy: 0.9354 - val_loss: 1221.7890 - val_accuracy: 0.0583\n",
      "Epoch 10/14\n",
      "60000/60000 [==============================] - 21s 352us/sample - loss: 0.1567 - accuracy: 0.9414 - val_loss: 1244.4869 - val_accuracy: 0.0460\n",
      "Epoch 11/14\n",
      "60000/60000 [==============================] - 21s 353us/sample - loss: 0.1421 - accuracy: 0.9465 - val_loss: 1480.0264 - val_accuracy: 0.0740\n",
      "Epoch 12/14\n",
      "60000/60000 [==============================] - 21s 357us/sample - loss: 0.1321 - accuracy: 0.9493 - val_loss: 1638.3275 - val_accuracy: 0.0491\n",
      "Epoch 13/14\n",
      "60000/60000 [==============================] - 22s 361us/sample - loss: 0.1228 - accuracy: 0.9545 - val_loss: 1514.6595 - val_accuracy: 0.0512\n",
      "Epoch 14/14\n",
      "60000/60000 [==============================] - 21s 355us/sample - loss: 0.1148 - accuracy: 0.9572 - val_loss: 1680.1169 - val_accuracy: 0.0597\n"
     ]
    }
   ],
   "source": [
    "history = model.fit(trainX, trainY, validation_data = (testX, testY) ,epochs = 14)"
   ]
  },
  {
   "cell_type": "code",
   "execution_count": null,
   "metadata": {},
   "outputs": [],
   "source": []
  }
 ],
 "metadata": {
  "kernelspec": {
   "display_name": "Python 3",
   "language": "python",
   "name": "python3"
  },
  "language_info": {
   "codemirror_mode": {
    "name": "ipython",
    "version": 3
   },
   "file_extension": ".py",
   "mimetype": "text/x-python",
   "name": "python",
   "nbconvert_exporter": "python",
   "pygments_lexer": "ipython3",
   "version": "3.7.6"
  }
 },
 "nbformat": 4,
 "nbformat_minor": 4
}
