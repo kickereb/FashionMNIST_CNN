{
 "cells": [
  {
   "cell_type": "code",
   "execution_count": 2,
   "metadata": {},
   "outputs": [
    {
     "name": "stdout",
     "output_type": "stream",
     "text": [
      "2.1.0\n"
     ]
    },
    {
     "name": "stderr",
     "output_type": "stream",
     "text": [
      "Using TensorFlow backend.\n"
     ]
    }
   ],
   "source": [
    "import tensorflow as tf\n",
    "from tensorflow import keras\n",
    "import numpy as np\n",
    "import cv2\n",
    "from tensorflow.keras import backend\n",
    "import matplotlib.pyplot as plt\n",
    "from tensorflow.keras.models import Model, load_model\n",
    "from keras.layers import Conv2D, Input, MaxPooling2D, BatchNormalization, Dense, Flatten\n",
    "print(tf.__version__)"
   ]
  },
  {
   "cell_type": "code",
   "execution_count": null,
   "metadata": {},
   "outputs": [],
   "source": [
    "# tf.disable_v2_behavior()"
   ]
  },
  {
   "cell_type": "code",
   "execution_count": 3,
   "metadata": {},
   "outputs": [],
   "source": [
    "fashion_mnist = keras.datasets.fashion_mnist\n",
    "(trainX, trainY), (testX, testY) = fashion_mnist.load_data()"
   ]
  },
  {
   "cell_type": "code",
   "execution_count": 4,
   "metadata": {},
   "outputs": [],
   "source": [
    "trainX = trainX.reshape((trainX.shape[0], 28, 28, 1))\n",
    "testX = testX.reshape((testX.shape[0], 28, 28, 1))"
   ]
  },
  {
   "cell_type": "code",
   "execution_count": 5,
   "metadata": {},
   "outputs": [],
   "source": [
    "trainX = trainX/255.0\n",
    "testX = testX/255.0"
   ]
  },
  {
   "cell_type": "code",
   "execution_count": 7,
   "metadata": {},
   "outputs": [],
   "source": [
    "#input tensor initialisation\n",
    "input_img = keras.layers.Input((28, 28, 1), name = \"img\")\n",
    "n_filters = 16"
   ]
  },
  {
   "cell_type": "code",
   "execution_count": 11,
   "metadata": {},
   "outputs": [],
   "source": [
    "# def make_model(input_img, n_filters = 16):\n",
    "c1 = keras.layers.Conv2D(n_filters, (3,3), padding='same', activation='relu', input_shape = (28,28,1))(input_img)\n",
    "p1 = keras.layers.MaxPooling2D((2,2))(c1)\n",
    "\n",
    "c2 = keras.layers.Conv2D(n_filters*4, (3,3), padding='same', activation='relu')(p1)\n",
    "p2 = keras.layers.MaxPooling2D((2,2))(c2)\n",
    "\n",
    "c3 = keras.layers.Conv2D(n_filters*4, (3,3), padding='same', activation='relu')(p2)\n",
    "flat = keras.layers.Flatten()\n",
    "flattened = flat(c3)\n",
    "d1 = keras.layers.Dense(64, activation='relu')(flattened)\n",
    "d2 = keras.layers.Dense(10, activation='softmax')(d1)\n",
    "model = Model(inputs=[input_img], outputs=[d2])\n",
    "model.compile(optimizer = 'Adam', loss = \"sparse_categorical_crossentropy\", metrics = [\"accuracy\"])"
   ]
  },
  {
   "cell_type": "code",
   "execution_count": 12,
   "metadata": {},
   "outputs": [
    {
     "name": "stdout",
     "output_type": "stream",
     "text": [
      "Model: \"model_1\"\n",
      "_________________________________________________________________\n",
      "Layer (type)                 Output Shape              Param #   \n",
      "=================================================================\n",
      "img (InputLayer)             [(None, 28, 28, 1)]       0         \n",
      "_________________________________________________________________\n",
      "conv2d_6 (Conv2D)            (None, 28, 28, 16)        160       \n",
      "_________________________________________________________________\n",
      "max_pooling2d_4 (MaxPooling2 (None, 14, 14, 16)        0         \n",
      "_________________________________________________________________\n",
      "conv2d_7 (Conv2D)            (None, 14, 14, 64)        9280      \n",
      "_________________________________________________________________\n",
      "max_pooling2d_5 (MaxPooling2 (None, 7, 7, 64)          0         \n",
      "_________________________________________________________________\n",
      "conv2d_8 (Conv2D)            (None, 7, 7, 64)          36928     \n",
      "_________________________________________________________________\n",
      "flatten_2 (Flatten)          (None, 3136)              0         \n",
      "_________________________________________________________________\n",
      "dense_2 (Dense)              (None, 64)                200768    \n",
      "_________________________________________________________________\n",
      "dense_3 (Dense)              (None, 10)                650       \n",
      "=================================================================\n",
      "Total params: 247,786\n",
      "Trainable params: 247,786\n",
      "Non-trainable params: 0\n",
      "_________________________________________________________________\n"
     ]
    }
   ],
   "source": [
    "model.summary()"
   ]
  },
  {
   "cell_type": "code",
   "execution_count": 13,
   "metadata": {},
   "outputs": [
    {
     "name": "stdout",
     "output_type": "stream",
     "text": [
      "Train on 60000 samples, validate on 10000 samples\n",
      "Epoch 1/10\n",
      "60000/60000 [==============================] - 24s 404us/sample - loss: 0.4135 - accuracy: 0.8503 - val_loss: 0.3177 - val_accuracy: 0.8857\n",
      "Epoch 2/10\n",
      "60000/60000 [==============================] - 25s 423us/sample - loss: 0.2698 - accuracy: 0.9013 - val_loss: 0.2666 - val_accuracy: 0.9035\n",
      "Epoch 3/10\n",
      "60000/60000 [==============================] - 26s 429us/sample - loss: 0.2250 - accuracy: 0.9159 - val_loss: 0.2627 - val_accuracy: 0.9005\n",
      "Epoch 4/10\n",
      "60000/60000 [==============================] - 26s 427us/sample - loss: 0.1934 - accuracy: 0.9277 - val_loss: 0.2398 - val_accuracy: 0.9160\n",
      "Epoch 5/10\n",
      "60000/60000 [==============================] - 25s 422us/sample - loss: 0.1683 - accuracy: 0.9374 - val_loss: 0.2530 - val_accuracy: 0.9097\n",
      "Epoch 6/10\n",
      "60000/60000 [==============================] - 25s 421us/sample - loss: 0.1442 - accuracy: 0.9452 - val_loss: 0.2438 - val_accuracy: 0.9169\n",
      "Epoch 7/10\n",
      "60000/60000 [==============================] - 26s 428us/sample - loss: 0.1241 - accuracy: 0.9542 - val_loss: 0.2612 - val_accuracy: 0.9150\n",
      "Epoch 8/10\n",
      "60000/60000 [==============================] - 26s 426us/sample - loss: 0.1066 - accuracy: 0.9601 - val_loss: 0.2693 - val_accuracy: 0.9158\n",
      "Epoch 9/10\n",
      "60000/60000 [==============================] - 26s 430us/sample - loss: 0.0910 - accuracy: 0.9660 - val_loss: 0.2922 - val_accuracy: 0.9117\n",
      "Epoch 10/10\n",
      "60000/60000 [==============================] - 26s 429us/sample - loss: 0.0790 - accuracy: 0.9711 - val_loss: 0.3073 - val_accuracy: 0.9172\n"
     ]
    }
   ],
   "source": [
    "history = model.fit(trainX, trainY, validation_data=(testX, testY), epochs=10)"
   ]
  },
  {
   "cell_type": "code",
   "execution_count": 14,
   "metadata": {},
   "outputs": [
    {
     "name": "stdout",
     "output_type": "stream",
     "text": [
      "60000/60000 - 6s - loss: 0.0640 - accuracy: 0.9760\n"
     ]
    },
    {
     "data": {
      "image/png": "[encoded data removed]",
      "text/plain": [
       "<Figure size 432x288 with 1 Axes>"
      ]
     },
     "metadata": {
      "needs_background": "light"
     },
     "output_type": "display_data"
    }
   ],
   "source": [
    "plt.plot(history.history['accuracy'], label='accuracy')\n",
    "plt.plot(history.history['val_accuracy'], label = 'val_accuracy')\n",
    "plt.xlabel('Epoch')\n",
    "plt.ylabel('Accuracy')\n",
    "plt.ylim([0.5, 1])\n",
    "plt.legend(loc='lower right')\n",
    "\n",
    "test_loss, test_acc = model.evaluate(trainX, trainY, verbose=2)\n"
   ]
  },
  {
   "cell_type": "code",
   "execution_count": null,
   "metadata": {},
   "outputs": [],
   "source": []
  }
 ],
 "metadata": {
  "kernelspec": {
   "display_name": "Python 3",
   "language": "python",
   "name": "python3"
  },
  "language_info": {
   "codemirror_mode": {
    "name": "ipython",
    "version": 3
   },
   "file_extension": ".py",
   "mimetype": "text/x-python",
   "name": "python",
   "nbconvert_exporter": "python",
   "pygments_lexer": "ipython3",
   "version": "3.7.6"
  }
 },
 "nbformat": 4,
 "nbformat_minor": 4
}
