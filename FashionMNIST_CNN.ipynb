{
 "cells": [
  {
   "cell_type": "code",
   "execution_count": 1,
   "metadata": {},
   "outputs": [],
   "source": [
    "import tensorflow as tf"
   ]
  },
  {
   "cell_type": "code",
   "execution_count": 2,
   "metadata": {},
   "outputs": [
    {
     "name": "stdout",
     "output_type": "stream",
     "text": [
      "2.1.0\n"
     ]
    }
   ],
   "source": [
    "from __future__ import absolute_import, division, print_function, unicode_literals\n",
    "from tensorflow import keras\n",
    "from tensorflow.keras import datasets, layers, models\n",
    "import numpy as np\n",
    "import cv2\n",
    "import matplotlib.pyplot as plt\n",
    "import random\n",
    "print(tf.__version__)"
   ]
  },
  {
   "cell_type": "code",
   "execution_count": 3,
   "metadata": {},
   "outputs": [],
   "source": [
    "fashion_mnist = keras.datasets.fashion_mnist\n",
    "(trainX, trainY), (testX, testY) = fashion_mnist.load_data()"
   ]
  },
  {
   "cell_type": "code",
   "execution_count": 4,
   "metadata": {},
   "outputs": [],
   "source": [
    "for_hold = trainX.copy()"
   ]
  },
  {
   "cell_type": "code",
   "execution_count": 5,
   "metadata": {},
   "outputs": [],
   "source": [
    "# Flip random images\n",
    "for i in range(trainX.shape[0]):\n",
    "    for_hold[i] = cv2.flip(trainX[i], np.random.randint(-1,3))"
   ]
  },
  {
   "cell_type": "code",
   "execution_count": 6,
   "metadata": {},
   "outputs": [],
   "source": [
    "trainX = for_hold.copy()"
   ]
  },
  {
   "cell_type": "code",
   "execution_count": 7,
   "metadata": {},
   "outputs": [],
   "source": [
    "trainX = trainX.reshape((trainX.shape[0], 28, 28, 1))\n",
    "testX = testX.reshape((testX.shape[0], 28, 28, 1))"
   ]
  },
  {
   "cell_type": "code",
   "execution_count": 8,
   "metadata": {},
   "outputs": [],
   "source": [
    "trainX = trainX/255.0\n",
    "testY = testY/255.0"
   ]
  },
  {
   "cell_type": "code",
   "execution_count": 9,
   "metadata": {},
   "outputs": [],
   "source": [
    "model = keras.Sequential()"
   ]
  },
  {
   "cell_type": "code",
   "execution_count": 11,
   "metadata": {},
   "outputs": [],
   "source": [
    "model.add(layers.Conv2D(16, (3,3), activation='relu', padding='same', data_format='channels_last', input_shape = (28,28,1)))\n",
    "model.add(layers.MaxPool2D())\n",
    "model.add(layers.Conv2D(64,  (3,3), data_format='channels_last', activation='relu', padding='same'))\n",
    "model.add(layers.BatchNormalization())\n",
    "model.add(layers.MaxPool2D())\n",
    "model.add(layers.Conv2D(64,  (3,3), data_format='channels_last', activation='relu', padding='same'))\n",
    "model.add(layers.Flatten())\n",
    "model.add(layers.Dense(64, activation='relu'))\n",
    "model.add(layers.Dense(10, activation='softmax'))"
   ]
  },
  {
   "cell_type": "code",
   "execution_count": 12,
   "metadata": {},
   "outputs": [
    {
     "name": "stdout",
     "output_type": "stream",
     "text": [
      "Model: \"sequential\"\n",
      "_________________________________________________________________\n",
      "Layer (type)                 Output Shape              Param #   \n",
      "=================================================================\n",
      "conv2d (Conv2D)              (None, 28, 28, 16)        160       \n",
      "_________________________________________________________________\n",
      "max_pooling2d (MaxPooling2D) (None, 14, 14, 16)        0         \n",
      "_________________________________________________________________\n",
      "conv2d_1 (Conv2D)            (None, 14, 14, 64)        9280      \n",
      "_________________________________________________________________\n",
      "batch_normalization (BatchNo (None, 14, 14, 64)        256       \n",
      "_________________________________________________________________\n",
      "max_pooling2d_1 (MaxPooling2 (None, 7, 7, 64)          0         \n",
      "_________________________________________________________________\n",
      "conv2d_2 (Conv2D)            (None, 7, 7, 64)          36928     \n",
      "_________________________________________________________________\n",
      "flatten (Flatten)            (None, 3136)              0         \n",
      "_________________________________________________________________\n",
      "dense (Dense)                (None, 64)                200768    \n",
      "_________________________________________________________________\n",
      "dense_1 (Dense)              (None, 10)                650       \n",
      "=================================================================\n",
      "Total params: 248,042\n",
      "Trainable params: 247,914\n",
      "Non-trainable params: 128\n",
      "_________________________________________________________________\n"
     ]
    }
   ],
   "source": [
    "model.summary()"
   ]
  },
  {
   "cell_type": "code",
   "execution_count": null,
   "metadata": {},
   "outputs": [],
   "source": [
    "tf.keras.optimizers.Adam"
   ]
  },
  {
   "cell_type": "code",
   "execution_count": 13,
   "metadata": {},
   "outputs": [],
   "source": [
    "model.compile(optimizer = 'adam',\n",
    "             loss='sparse_categorical_crossentropy',\n",
    "             metrics = ['accuracy'])"
   ]
  },
  {
   "cell_type": "code",
   "execution_count": 14,
   "metadata": {},
   "outputs": [
    {
     "name": "stdout",
     "output_type": "stream",
     "text": [
      "Train on 57000 samples, validate on 3000 samples\n",
      "Epoch 1/14\n",
      "57000/57000 [==============================] - 27s 475us/sample - loss: 0.4367 - accuracy: 0.8419 - val_loss: 0.3147 - val_accuracy: 0.8847\n",
      "Epoch 2/14\n",
      "57000/57000 [==============================] - 28s 494us/sample - loss: 0.2979 - accuracy: 0.8911 - val_loss: 0.2973 - val_accuracy: 0.8907\n",
      "Epoch 3/14\n",
      "57000/57000 [==============================] - 28s 494us/sample - loss: 0.2528 - accuracy: 0.9061 - val_loss: 0.2856 - val_accuracy: 0.8963\n",
      "Epoch 4/14\n",
      "57000/57000 [==============================] - 29s 501us/sample - loss: 0.2168 - accuracy: 0.9188 - val_loss: 0.2909 - val_accuracy: 0.8997\n",
      "Epoch 5/14\n",
      "57000/57000 [==============================] - 28s 492us/sample - loss: 0.1896 - accuracy: 0.9291 - val_loss: 0.2678 - val_accuracy: 0.9070\n",
      "Epoch 6/14\n",
      "57000/57000 [==============================] - 28s 491us/sample - loss: 0.1651 - accuracy: 0.9376 - val_loss: 0.3153 - val_accuracy: 0.8947\n",
      "Epoch 7/14\n",
      "57000/57000 [==============================] - 28s 491us/sample - loss: 0.1454 - accuracy: 0.9455 - val_loss: 0.3623 - val_accuracy: 0.8953\n",
      "Epoch 8/14\n",
      "57000/57000 [==============================] - 28s 493us/sample - loss: 0.1274 - accuracy: 0.9518 - val_loss: 0.3144 - val_accuracy: 0.9043\n",
      "Epoch 9/14\n",
      "57000/57000 [==============================] - 28s 492us/sample - loss: 0.1105 - accuracy: 0.9586 - val_loss: 0.4484 - val_accuracy: 0.8967\n",
      "Epoch 10/14\n",
      "57000/57000 [==============================] - 28s 489us/sample - loss: 0.0958 - accuracy: 0.9638 - val_loss: 0.4059 - val_accuracy: 0.9027\n",
      "Epoch 11/14\n",
      "57000/57000 [==============================] - 28s 490us/sample - loss: 0.0898 - accuracy: 0.9663 - val_loss: 0.4385 - val_accuracy: 0.9017\n",
      "Epoch 12/14\n",
      "57000/57000 [==============================] - 28s 489us/sample - loss: 0.0818 - accuracy: 0.9695 - val_loss: 0.4186 - val_accuracy: 0.9087\n",
      "Epoch 13/14\n",
      "57000/57000 [==============================] - 28s 491us/sample - loss: 0.0736 - accuracy: 0.9727 - val_loss: 0.4841 - val_accuracy: 0.9017\n",
      "Epoch 14/14\n",
      "57000/57000 [==============================] - 28s 489us/sample - loss: 0.0715 - accuracy: 0.9741 - val_loss: 0.4235 - val_accuracy: 0.8960\n"
     ]
    }
   ],
   "source": [
    "history = model.fit(trainX, trainY , validation_split = 0.05,epochs = 14)"
   ]
  },
  {
   "cell_type": "code",
   "execution_count": 17,
   "metadata": {},
   "outputs": [
    {
     "name": "stdout",
     "output_type": "stream",
     "text": [
      "60000/60000 - 6s - loss: 0.0856 - accuracy: 0.9709\n"
     ]
    },
    {
     "data": {
      "image/png": "[encoded data removed]",
      "text/plain": [
       "<Figure size 432x288 with 1 Axes>"
      ]
     },
     "metadata": {
      "needs_background": "light"
     },
     "output_type": "display_data"
    }
   ],
   "source": [
    "plt.plot(history.history['accuracy'], label='accuracy')\n",
    "plt.plot(history.history['val_accuracy'], label = 'val_accuracy')\n",
    "plt.xlabel('Epoch')\n",
    "plt.ylabel('Accuracy')\n",
    "plt.ylim([0.5, 1])\n",
    "plt.legend(loc='lower right')\n",
    "\n",
    "test_loss, test_acc = model.evaluate(trainX, trainY, verbose=2)"
   ]
  },
  {
   "cell_type": "code",
   "execution_count": null,
   "metadata": {},
   "outputs": [],
   "source": []
  }
 ],
 "metadata": {
  "kernelspec": {
   "display_name": "Python 3",
   "language": "python",
   "name": "python3"
  },
  "language_info": {
   "codemirror_mode": {
    "name": "ipython",
    "version": 3
   },
   "file_extension": ".py",
   "mimetype": "text/x-python",
   "name": "python",
   "nbconvert_exporter": "python",
   "pygments_lexer": "ipython3",
   "version": "3.7.6"
  }
 },
 "nbformat": 4,
 "nbformat_minor": 4
}
